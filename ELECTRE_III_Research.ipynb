{
  "cells": [
    {
      "cell_type": "code",
      "execution_count": null,
      "metadata": {
        "id": "Q5b8WfxbOe_J"
      },
      "outputs": [],
      "source": [
        "# Research Example created by: Yuri Pessoa M.Sc.\n",
        "# email:  yuri.mp@outlook.com\n",
        "# GitHub Repository: <https://github.com/yuri_pessoa>"
      ]
    },
    {
      "cell_type": "code",
      "execution_count": 1,
      "metadata": {
        "id": "9xK_5CSBOyjz"
      },
      "outputs": [],
      "source": [
        "# Importing Libraries\n",
        "import numpy as np\n",
        "import pandas as pd\n",
        "\n",
        "from electre.tree_e_iii import tree_electre_iii\n",
        "from electre.tree_e_iii import predict_e_iii\n",
        "from electre.tree_e_iii import metrics_e_iii\n",
        "\n",
        "from electre.util       import rank_plot\n",
        "from electre.util_e_iii import electre_iii"
      ]
    },
    {
      "cell_type": "code",
      "execution_count": 4,
      "metadata": {
        "id": "wPgTStPMPCU4"
      },
      "outputs": [
        {
          "data": {
            "text/html": [
              "<div>\n",
              "<style scoped>\n",
              "    .dataframe tbody tr th:only-of-type {\n",
              "        vertical-align: middle;\n",
              "    }\n",
              "\n",
              "    .dataframe tbody tr th {\n",
              "        vertical-align: top;\n",
              "    }\n",
              "\n",
              "    .dataframe thead th {\n",
              "        text-align: right;\n",
              "    }\n",
              "</style>\n",
              "<table border=\"1\" class=\"dataframe\">\n",
              "  <thead>\n",
              "    <tr style=\"text-align: right;\">\n",
              "      <th></th>\n",
              "      <th>População</th>\n",
              "      <th>Potência Instalada (MW)</th>\n",
              "      <th>Valor da Terra Nua (R$)</th>\n",
              "      <th>PIB per capita (R$ per capita)</th>\n",
              "      <th>Taxa de Desemprego (%)</th>\n",
              "      <th>Indice ODS 2023</th>\n",
              "    </tr>\n",
              "  </thead>\n",
              "  <tbody>\n",
              "    <tr>\n",
              "      <th>0</th>\n",
              "      <td>0.03</td>\n",
              "      <td>0.09</td>\n",
              "      <td>0.13</td>\n",
              "      <td>0.32</td>\n",
              "      <td>0.37</td>\n",
              "      <td>0.60</td>\n",
              "    </tr>\n",
              "    <tr>\n",
              "      <th>1</th>\n",
              "      <td>0.01</td>\n",
              "      <td>0.14</td>\n",
              "      <td>0.37</td>\n",
              "      <td>0.29</td>\n",
              "      <td>0.43</td>\n",
              "      <td>0.73</td>\n",
              "    </tr>\n",
              "    <tr>\n",
              "      <th>2</th>\n",
              "      <td>0.05</td>\n",
              "      <td>0.05</td>\n",
              "      <td>0.85</td>\n",
              "      <td>1.00</td>\n",
              "      <td>0.92</td>\n",
              "      <td>0.31</td>\n",
              "    </tr>\n",
              "    <tr>\n",
              "      <th>3</th>\n",
              "      <td>1.00</td>\n",
              "      <td>0.92</td>\n",
              "      <td>0.00</td>\n",
              "      <td>0.10</td>\n",
              "      <td>0.65</td>\n",
              "      <td>0.65</td>\n",
              "    </tr>\n",
              "    <tr>\n",
              "      <th>4</th>\n",
              "      <td>0.00</td>\n",
              "      <td>0.25</td>\n",
              "      <td>0.32</td>\n",
              "      <td>0.11</td>\n",
              "      <td>0.58</td>\n",
              "      <td>0.37</td>\n",
              "    </tr>\n",
              "    <tr>\n",
              "      <th>5</th>\n",
              "      <td>0.21</td>\n",
              "      <td>0.76</td>\n",
              "      <td>1.00</td>\n",
              "      <td>0.86</td>\n",
              "      <td>1.00</td>\n",
              "      <td>0.27</td>\n",
              "    </tr>\n",
              "    <tr>\n",
              "      <th>6</th>\n",
              "      <td>0.11</td>\n",
              "      <td>0.43</td>\n",
              "      <td>0.11</td>\n",
              "      <td>0.19</td>\n",
              "      <td>0.00</td>\n",
              "      <td>1.00</td>\n",
              "    </tr>\n",
              "    <tr>\n",
              "      <th>7</th>\n",
              "      <td>0.36</td>\n",
              "      <td>0.72</td>\n",
              "      <td>0.03</td>\n",
              "      <td>0.27</td>\n",
              "      <td>0.08</td>\n",
              "      <td>0.84</td>\n",
              "    </tr>\n",
              "    <tr>\n",
              "      <th>8</th>\n",
              "      <td>0.33</td>\n",
              "      <td>1.00</td>\n",
              "      <td>0.05</td>\n",
              "      <td>0.00</td>\n",
              "      <td>0.21</td>\n",
              "      <td>0.84</td>\n",
              "    </tr>\n",
              "    <tr>\n",
              "      <th>9</th>\n",
              "      <td>0.00</td>\n",
              "      <td>0.00</td>\n",
              "      <td>0.80</td>\n",
              "      <td>0.92</td>\n",
              "      <td>0.82</td>\n",
              "      <td>0.00</td>\n",
              "    </tr>\n",
              "    <tr>\n",
              "      <th>10</th>\n",
              "      <td>0.20</td>\n",
              "      <td>0.39</td>\n",
              "      <td>0.34</td>\n",
              "      <td>0.68</td>\n",
              "      <td>0.78</td>\n",
              "      <td>0.18</td>\n",
              "    </tr>\n",
              "    <tr>\n",
              "      <th>11</th>\n",
              "      <td>0.30</td>\n",
              "      <td>0.44</td>\n",
              "      <td>0.21</td>\n",
              "      <td>0.57</td>\n",
              "      <td>0.31</td>\n",
              "      <td>0.37</td>\n",
              "    </tr>\n",
              "  </tbody>\n",
              "</table>\n",
              "</div>"
            ],
            "text/plain": [
              "    População  Potência Instalada (MW)  Valor da Terra Nua (R$)  \\\n",
              "0        0.03                     0.09                     0.13   \n",
              "1        0.01                     0.14                     0.37   \n",
              "2        0.05                     0.05                     0.85   \n",
              "3        1.00                     0.92                     0.00   \n",
              "4        0.00                     0.25                     0.32   \n",
              "5        0.21                     0.76                     1.00   \n",
              "6        0.11                     0.43                     0.11   \n",
              "7        0.36                     0.72                     0.03   \n",
              "8        0.33                     1.00                     0.05   \n",
              "9        0.00                     0.00                     0.80   \n",
              "10       0.20                     0.39                     0.34   \n",
              "11       0.30                     0.44                     0.21   \n",
              "\n",
              "    PIB per capita (R$ per capita)  Taxa de Desemprego (%)  Indice ODS 2023  \n",
              "0                             0.32                    0.37             0.60  \n",
              "1                             0.29                    0.43             0.73  \n",
              "2                             1.00                    0.92             0.31  \n",
              "3                             0.10                    0.65             0.65  \n",
              "4                             0.11                    0.58             0.37  \n",
              "5                             0.86                    1.00             0.27  \n",
              "6                             0.19                    0.00             1.00  \n",
              "7                             0.27                    0.08             0.84  \n",
              "8                             0.00                    0.21             0.84  \n",
              "9                             0.92                    0.82             0.00  \n",
              "10                            0.68                    0.78             0.18  \n",
              "11                            0.57                    0.31             0.37  "
            ]
          },
          "execution_count": 4,
          "metadata": {},
          "output_type": "execute_result"
        }
      ],
      "source": [
        "# Loading Dataset\n",
        "\n",
        "df1 = pd.read_csv(\"./matriz_criterios.csv\",\n",
        "    usecols=[\n",
        "        \"População\",\n",
        "        \"Potência Instalada (MW)\",\n",
        "        \"Valor da Terra Nua (R$)\",\n",
        "        \"PIB per capita (R$ per capita)\",\n",
        "        \"Taxa de Desemprego (%)\",\n",
        "        \"Indice ODS 2023\",\n",
        "    ],\n",
        ")\n",
        "\n",
        "df1 = df1.loc[:, ['População', 'Potência Instalada (MW)', 'Valor da Terra Nua (R$)', 'PIB per capita (R$ per capita)', \n",
        "                  'Taxa de Desemprego (%)', 'Indice ODS 2023']]\n",
        "\n",
        "df1_normalized = df1.copy()\n",
        "\n",
        "# Inverting the values of criteria to minimize\n",
        "\n",
        "df1_normalized['PIB per capita (R$ per capita)'] = 1 / df1_normalized['PIB per capita (R$ per capita)']\n",
        "\n",
        "df1_normalized['Valor da Terra Nua (R$)'] = 1 / df1_normalized['Valor da Terra Nua (R$)']\n",
        "\n",
        "# Normalizing Dataset\n",
        "\n",
        "for column in df1_normalized.columns:\n",
        "    df1_normalized[column] = ((df1_normalized[column] - df1_normalized[column].min()) / (df1_normalized[column].max() - df1_normalized[column].min()))\n",
        "\n",
        "df1_normalized.head(12).round(2)"
      ]
    },
    {
      "cell_type": "code",
      "execution_count": 8,
      "metadata": {},
      "outputs": [
        {
          "data": {
            "text/plain": [
              "array([[0.03, 0.09, 0.13, 0.32, 0.37, 0.6 ],\n",
              "       [0.01, 0.14, 0.37, 0.29, 0.43, 0.73],\n",
              "       [0.05, 0.05, 0.85, 1.  , 0.92, 0.31],\n",
              "       [1.  , 0.92, 0.  , 0.1 , 0.65, 0.65],\n",
              "       [0.  , 0.25, 0.32, 0.11, 0.58, 0.37],\n",
              "       [0.21, 0.76, 1.  , 0.86, 1.  , 0.27],\n",
              "       [0.11, 0.43, 0.11, 0.19, 0.  , 1.  ],\n",
              "       [0.36, 0.72, 0.03, 0.27, 0.08, 0.84],\n",
              "       [0.33, 1.  , 0.05, 0.  , 0.21, 0.84],\n",
              "       [0.  , 0.  , 0.8 , 0.92, 0.82, 0.  ],\n",
              "       [0.2 , 0.39, 0.34, 0.68, 0.78, 0.18],\n",
              "       [0.3 , 0.44, 0.21, 0.57, 0.31, 0.37]])"
            ]
          },
          "execution_count": 8,
          "metadata": {},
          "output_type": "execute_result"
        }
      ],
      "source": [
        "dataset = df1_normalized.to_numpy()\n",
        "\n",
        "np.around(dataset, decimals=2)"
      ]
    },
    {
      "cell_type": "code",
      "execution_count": 9,
      "metadata": {
        "colab": {
          "base_uri": "https://localhost:8080/"
        },
        "id": "SrjVVuDZPISA",
        "outputId": "90411608-95ae-47a3-ad0e-2ac944a135be"
      },
      "outputs": [
        {
          "name": "stdout",
          "output_type": "stream",
          "text": [
            "Model # 1\n",
            "Model # 2\n",
            "Model # 3\n",
            "Model # 4\n",
            "Model # 5\n",
            "Model # 6\n",
            "Model # 7\n",
            "Model # 8\n",
            "Model # 9\n",
            "Model # 10\n",
            "Model # 11\n",
            "Model # 12\n",
            "Model # 13\n",
            "Model # 14\n",
            "Model # 15\n",
            "Model # 16\n",
            "Model # 17\n",
            "Model # 18\n",
            "Model # 19\n",
            "Model # 20\n",
            "Model # 21\n",
            "Model # 22\n",
            "Model # 23\n",
            "Model # 24\n",
            "Model # 25\n",
            "Model # 26\n",
            "Model # 27\n",
            "Model # 28\n",
            "Model # 29\n",
            "Model # 30\n",
            "Model # 31\n",
            "Model # 32\n",
            "Model # 33\n",
            "Model # 34\n",
            "Model # 35\n",
            "Model # 36\n",
            "Model # 37\n",
            "Model # 38\n",
            "Model # 39\n",
            "Model # 40\n",
            "Model # 41\n",
            "Model # 42\n",
            "Model # 43\n",
            "Model # 44\n",
            "Model # 45\n",
            "Model # 46\n",
            "Model # 47\n",
            "Model # 48\n",
            "Model # 49\n",
            "Model # 50\n",
            "Model # 51\n",
            "Model # 52\n",
            "Model # 53\n",
            "Model # 54\n",
            "Model # 55\n",
            "Model # 56\n",
            "Model # 57\n",
            "Model # 58\n",
            "Model # 59\n",
            "Model # 60\n",
            "Model # 61\n",
            "Model # 62\n",
            "Model # 63\n",
            "Model # 64\n",
            "Model # 65\n",
            "Model # 66\n",
            "Model # 67\n",
            "Model # 68\n",
            "Model # 69\n",
            "Model # 70\n",
            "Model # 71\n",
            "Model # 72\n",
            "Model # 73\n",
            "Model # 74\n",
            "Model # 75\n",
            "Model # 76\n",
            "Model # 77\n",
            "Model # 78\n",
            "Model # 79\n",
            "Model # 80\n",
            "Model # 81\n",
            "Model # 82\n",
            "Model # 83\n",
            "Model # 84\n",
            "Model # 85\n",
            "Model # 86\n",
            "Model # 87\n",
            "Model # 88\n",
            "Model # 89\n",
            "Model # 90\n",
            "Model # 91\n",
            "Model # 92\n",
            "Model # 93\n",
            "Model # 94\n",
            "Model # 95\n",
            "Model # 96\n",
            "Model # 97\n",
            "Model # 98\n",
            "Model # 99\n",
            "Model # 100\n"
          ]
        }
      ],
      "source": [
        "# Electre III Example\n",
        "\n",
        "# Parameters - Ranking Trees\n",
        "target  = []\n",
        "W       = [1/6, 1/6, 1/6, 1/6, 1/6, 1/6]\n",
        "P       = []\n",
        "Q       = []\n",
        "V       = []\n",
        "models  = 100\n",
        "\n",
        "# Parameters - GA\n",
        "elite       = 1\n",
        "eta         = 1\n",
        "mu          = 2\n",
        "size        = 25\n",
        "rate        = 0.05\n",
        "generations = 150\n",
        "samples     = 0.70\n",
        "\n",
        "# Build Models\n",
        "models_e_iii = tree_electre_iii(dataset, target_assignment = target, W = W, P = P, Q = Q, V = V, elite = elite, eta = eta, mu = mu, population_size = size, mutation_rate = rate, generations = generations, samples = samples, number_of_models = models)"
      ]
    },
    {
      "cell_type": "code",
      "execution_count": 16,
      "metadata": {
        "colab": {
          "base_uri": "https://localhost:8080/"
        },
        "id": "ciAbk5pi30BY",
        "outputId": "306ecefd-8622-4bf8-f85e-a219596a0441"
      },
      "outputs": [
        {
          "name": "stdout",
          "output_type": "stream",
          "text": [
            "Criteria Weights:  [0.167 0.167 0.167 0.167 0.167 0.167]\n",
            "Q:  [0.11  0.167 0.159 0.145 0.12  0.424]\n",
            "P:  [0.245 0.415 0.278 0.315 0.264 0.633]\n",
            "V:  [0.422 0.622 0.544 0.6   0.473 0.777]\n",
            "Kendall Tau Correlation:  0.867\n"
          ]
        }
      ],
      "source": [
        "# Elicitated Parameters\n",
        "e_iii_mean_features, e_iii_std_features, e_iii_kdl_mean, e_iii_kdl_std, e_iii_q_tresholds_mean, e_iii_q_tresholds_std, e_iii_p_tresholds_mean, e_iii_p_tresholds_std, e_iii_v_tresholds_mean, e_iii_v_tresholds_std = metrics_e_iii(models_e_iii)\n",
        "\n",
        "print('Criteria Weights: ', np.around(e_iii_mean_features, decimals = 3))\n",
        "print('Q: ', np.around(e_iii_q_tresholds_mean, decimals = 3))\n",
        "print('P: ', np.around(e_iii_p_tresholds_mean, decimals = 3))\n",
        "print('V: ', np.around(e_iii_v_tresholds_mean, decimals = 3))\n",
        "print('Kendall Tau Correlation: ', round(e_iii_kdl_mean,  3))"
      ]
    },
    {
      "cell_type": "code",
      "execution_count": 19,
      "metadata": {
        "colab": {
          "base_uri": "https://localhost:8080/",
          "height": 261
        },
        "id": "k8NW5kr44hrU",
        "outputId": "8e22b153-f3d2-46ad-b896-bdd6719a113d"
      },
      "outputs": [],
      "source": [
        "# Rank with Elicitated Parameters\n",
        "global_concordance, credibility, rank_D, rank_A, rank_M, rank_P = electre_iii(dataset, P = e_iii_p_tresholds_mean, Q = e_iii_q_tresholds_mean, V = e_iii_v_tresholds_mean, W = e_iii_mean_features, graph = False)"
      ]
    },
    {
      "cell_type": "code",
      "execution_count": 31,
      "metadata": {
        "colab": {
          "base_uri": "https://localhost:8080/"
        },
        "id": "M7gJzUuz5TRy",
        "outputId": "dfc3e76c-faa2-4fd1-e6ab-1ab20a5e3631"
      },
      "outputs": [
        {
          "data": {
            "text/plain": [
              "array([[1.  , 0.89, 0.5 , 0.5 , 0.85, 0.26, 0.88, 0.67, 0.67, 0.5 , 0.44,\n",
              "        0.6 ],\n",
              "       [1.  , 1.  , 0.5 , 0.56, 0.96, 0.23, 0.92, 0.67, 0.67, 0.5 , 0.52,\n",
              "        0.61],\n",
              "       [1.  , 1.  , 1.  , 0.67, 0.98, 0.77, 0.69, 0.58, 0.58, 1.  , 0.84,\n",
              "        0.68],\n",
              "       [0.93, 0.79, 0.5 , 1.  , 0.83, 0.5 , 1.  , 0.98, 1.  , 0.61, 0.66,\n",
              "        0.76],\n",
              "       [0.94, 0.97, 0.5 , 0.67, 1.  , 0.22, 0.83, 0.62, 0.63, 0.54, 0.64,\n",
              "        0.65],\n",
              "       [1.  , 0.98, 1.  , 0.83, 1.  , 1.  , 0.83, 0.84, 0.82, 1.  , 1.  ,\n",
              "        1.  ],\n",
              "       [0.83, 0.69, 0.5 , 0.5 , 0.77, 0.39, 1.  , 0.75, 0.59, 0.5 , 0.57,\n",
              "        0.57],\n",
              "       [0.83, 0.67, 0.5 , 0.65, 0.67, 0.5 , 1.  , 1.  , 0.91, 0.5 , 0.5 ,\n",
              "        0.69],\n",
              "       [0.79, 0.58, 0.5 , 0.67, 0.68, 0.5 , 0.96, 0.88, 1.  , 0.5 , 0.5 ,\n",
              "        0.83],\n",
              "       [0.86, 0.83, 1.  , 0.5 , 0.94, 0.58, 0.67, 0.5 , 0.5 , 1.  , 0.74,\n",
              "        0.67],\n",
              "       [1.  , 0.9 , 0.64, 0.63, 1.  , 0.55, 0.83, 0.66, 0.64, 0.75, 1.  ,\n",
              "        1.  ],\n",
              "       [1.  , 0.99, 0.5 , 0.5 , 0.83, 0.43, 0.84, 0.89, 0.8 , 0.5 , 0.83,\n",
              "        1.  ]])"
            ]
          },
          "execution_count": 31,
          "metadata": {},
          "output_type": "execute_result"
        }
      ],
      "source": [
        "# Global Concordance Matrix\n",
        "np.ndarray.round(global_concordance, decimals = 2)\n"
      ]
    },
    {
      "cell_type": "code",
      "execution_count": 24,
      "metadata": {
        "colab": {
          "base_uri": "https://localhost:8080/"
        },
        "id": "HixhEGwM5UcI",
        "outputId": "5a3b6965-0c53-497e-e1e5-8a9734c5907c"
      },
      "outputs": [
        {
          "data": {
            "text/plain": [
              "array([[0.  , 0.89, 0.  , 0.  , 0.85, 0.  , 0.88, 0.  , 0.  , 0.  , 0.25,\n",
              "        0.6 ],\n",
              "       [1.  , 0.  , 0.  , 0.  , 0.96, 0.  , 0.92, 0.41, 0.  , 0.  , 0.52,\n",
              "        0.61],\n",
              "       [1.  , 1.  , 0.  , 0.  , 0.98, 0.  , 0.69, 0.  , 0.  , 1.  , 0.84,\n",
              "        0.68],\n",
              "       [0.93, 0.79, 0.  , 0.  , 0.83, 0.  , 1.  , 0.98, 1.  , 0.  , 0.11,\n",
              "        0.76],\n",
              "       [0.94, 0.97, 0.  , 0.  , 0.  , 0.  , 0.83, 0.62, 0.  , 0.  , 0.16,\n",
              "        0.65],\n",
              "       [1.  , 0.98, 1.  , 0.  , 1.  , 0.  , 0.83, 0.84, 0.82, 1.  , 1.  ,\n",
              "        1.  ],\n",
              "       [0.83, 0.43, 0.  , 0.  , 0.  , 0.  , 0.  , 0.75, 0.35, 0.  , 0.  ,\n",
              "        0.57],\n",
              "       [0.83, 0.67, 0.  , 0.  , 0.  , 0.  , 1.  , 0.  , 0.91, 0.  , 0.  ,\n",
              "        0.69],\n",
              "       [0.79, 0.58, 0.  , 0.  , 0.68, 0.  , 0.96, 0.88, 0.  , 0.  , 0.  ,\n",
              "        0.5 ],\n",
              "       [0.86, 0.83, 1.  , 0.  , 0.94, 0.  , 0.  , 0.  , 0.  , 0.  , 0.74,\n",
              "        0.67],\n",
              "       [1.  , 0.9 , 0.23, 0.  , 1.  , 0.  , 0.  , 0.66, 0.07, 0.75, 0.  ,\n",
              "        1.  ],\n",
              "       [1.  , 0.99, 0.  , 0.  , 0.83, 0.  , 0.84, 0.89, 0.8 , 0.  , 0.06,\n",
              "        0.  ]])"
            ]
          },
          "execution_count": 24,
          "metadata": {},
          "output_type": "execute_result"
        }
      ],
      "source": [
        "# Credibility Matrix\n",
        "np.ndarray.round(credibility, decimals = 2)"
      ]
    },
    {
      "cell_type": "code",
      "execution_count": 25,
      "metadata": {
        "colab": {
          "base_uri": "https://localhost:8080/"
        },
        "id": "e-EtwkSg5U5F",
        "outputId": "c4a79936-d843-490d-ffb5-562b88263acf"
      },
      "outputs": [
        {
          "name": "stdout",
          "output_type": "stream",
          "text": [
            "1 a6\n",
            "2 a4; a11\n",
            "3 a3\n",
            "4 a12\n",
            "5 a10\n",
            "6 a2; a8; a9\n",
            "7 a5\n",
            "8 a1; a7\n"
          ]
        }
      ],
      "source": [
        "# Rank - Descending\n",
        "for i in range(0, len(rank_D)):\n",
        "  print(str(i+1), rank_D[i])"
      ]
    },
    {
      "cell_type": "code",
      "execution_count": 26,
      "metadata": {
        "colab": {
          "base_uri": "https://localhost:8080/"
        },
        "id": "KZFQOerD5VTE",
        "outputId": "019887c8-7793-4d64-ebaf-296af6ffcdb1"
      },
      "outputs": [
        {
          "name": "stdout",
          "output_type": "stream",
          "text": [
            "1 a4; a6\n",
            "2 a3; a9; a10; a11\n",
            "3 a12\n",
            "4 a8\n",
            "5 a2; a5\n",
            "6 a7\n",
            "7 a1\n"
          ]
        }
      ],
      "source": [
        "# Rank - Ascending\n",
        "for i in range(0, len(rank_A)):\n",
        "  print(str(i+1), rank_A[i])"
      ]
    },
    {
      "cell_type": "code",
      "execution_count": 27,
      "metadata": {
        "colab": {
          "base_uri": "https://localhost:8080/"
        },
        "id": "un9Lg4MG5Vsd",
        "outputId": "a63d91ea-6404-48d6-c512-099da57922a5"
      },
      "outputs": [
        {
          "name": "stdout",
          "output_type": "stream",
          "text": [
            "a1 =  7.5\n",
            "a2 =  5.5\n",
            "a3 =  2.5\n",
            "a4 =  1.5\n",
            "a5 =  6.0\n",
            "a6 =  1.0\n",
            "a7 =  7.0\n",
            "a8 =  5.0\n",
            "a9 =  4.0\n",
            "a10 =  3.5\n",
            "a11 =  2.0\n",
            "a12 =  3.5\n"
          ]
        }
      ],
      "source": [
        "# Rank - Mean\n",
        "for i in range(0, len(rank_M)):\n",
        "  print('a'+str(i+1)+' = ', rank_M[i][0])"
      ]
    },
    {
      "cell_type": "code",
      "execution_count": 28,
      "metadata": {
        "colab": {
          "base_uri": "https://localhost:8080/"
        },
        "id": "aViiiL595WGY",
        "outputId": "d25383d1-fb0e-4efc-b78f-8a2657a15840"
      },
      "outputs": [
        {
          "name": "stdout",
          "output_type": "stream",
          "text": [
            "a1 ['-' 'P-' 'P-' 'P-' 'P-' 'P-' 'P-' 'P-' 'P-' 'P-' 'P-' 'P-']\n",
            "a2 ['P+' '-' 'P-' 'P-' 'P+' 'P-' 'P+' 'P-' 'P-' 'P-' 'P-' 'P-']\n",
            "a3 ['P+' 'P+' '-' 'P-' 'P+' 'P-' 'P+' 'P+' 'P+' 'P+' 'P-' 'P+']\n",
            "a4 ['P+' 'P+' 'P+' '-' 'P+' 'P-' 'P+' 'P+' 'P+' 'P+' 'P+' 'P+']\n",
            "a5 ['P+' 'P-' 'P-' 'P-' '-' 'P-' 'P+' 'P-' 'P-' 'P-' 'P-' 'P-']\n",
            "a6 ['P+' 'P+' 'P+' 'P+' 'P+' '-' 'P+' 'P+' 'P+' 'P+' 'P+' 'P+']\n",
            "a7 ['P+' 'P-' 'P-' 'P-' 'P-' 'P-' '-' 'P-' 'P-' 'P-' 'P-' 'P-']\n",
            "a8 ['P+' 'P+' 'P-' 'P-' 'P+' 'P-' 'P+' '-' 'P-' 'P-' 'P-' 'P-']\n",
            "a9 ['P+' 'P+' 'P-' 'P-' 'P+' 'P-' 'P+' 'P+' '-' 'P-' 'P-' 'R']\n",
            "a10 ['P+' 'P+' 'P-' 'P-' 'P+' 'P-' 'P+' 'P+' 'P+' '-' 'P-' 'R']\n",
            "a11 ['P+' 'P+' 'P+' 'P-' 'P+' 'P-' 'P+' 'P+' 'P+' 'P+' '-' 'P+']\n",
            "a12 ['P+' 'P+' 'P-' 'P-' 'P+' 'P-' 'P+' 'P+' 'R' 'R' 'P-' '-']\n"
          ]
        }
      ],
      "source": [
        "# Rank - Partial\n",
        "for i in range(0, len(rank_P)):\n",
        "  print('a'+str(i+1), rank_P[i])"
      ]
    },
    {
      "cell_type": "code",
      "execution_count": 29,
      "metadata": {
        "colab": {
          "base_uri": "https://localhost:8080/"
        },
        "id": "ph1KtXcR4kGU",
        "outputId": "629ffe20-d247-463b-ffe6-75a9c88c64b3"
      },
      "outputs": [
        {
          "name": "stdout",
          "output_type": "stream",
          "text": [
            "a1 = 7\n",
            "a2 = 7\n",
            "a3 = 2\n",
            "a4 = 2\n",
            "a5 = 5\n",
            "a6 = 1\n",
            "a7 = 6\n",
            "a8 = 5\n",
            "a9 = 5\n",
            "a10 = 4\n",
            "a11 = 3\n",
            "a12 = 5\n"
          ]
        }
      ],
      "source": [
        "# Ensemble Rank Model\n",
        "prediction_iii, solutions_iii = predict_e_iii(models_e_iii, dataset, verbose = True)"
      ]
    },
    {
      "cell_type": "code",
      "execution_count": 30,
      "metadata": {
        "colab": {
          "base_uri": "https://localhost:8080/",
          "height": 261
        },
        "id": "ZNulrHdt6LLh",
        "outputId": "ab050c76-33c8-4e5e-b04a-3ead7eb9a4e3"
      },
      "outputs": [
        {
          "data": {
            "image/png": "[encoded data removed]",
            "text/plain": [
              "<Figure size 640x480 with 1 Axes>"
            ]
          },
          "metadata": {},
          "output_type": "display_data"
        }
      ],
      "source": [
        "# Plot Ensemble Rank Model\n",
        "rank_plot(prediction_iii)"
      ]
    }
  ],
  "metadata": {
    "colab": {
      "provenance": []
    },
    "kernelspec": {
      "display_name": "Python 3",
      "name": "python3"
    },
    "language_info": {
      "codemirror_mode": {
        "name": "ipython",
        "version": 3
      },
      "file_extension": ".py",
      "mimetype": "text/x-python",
      "name": "python",
      "nbconvert_exporter": "python",
      "pygments_lexer": "ipython3",
      "version": "3.9.18"
    }
  },
  "nbformat": 4,
  "nbformat_minor": 0
}
